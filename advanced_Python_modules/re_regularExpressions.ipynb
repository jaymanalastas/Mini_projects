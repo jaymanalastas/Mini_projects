{
 "cells": [
  {
   "cell_type": "code",
   "execution_count": 1,
   "metadata": {},
   "outputs": [],
   "source": [
    "import re"
   ]
  },
  {
   "cell_type": "code",
   "execution_count": 2,
   "metadata": {},
   "outputs": [],
   "source": [
    "patterns = ['term1', 'term2']"
   ]
  },
  {
   "cell_type": "code",
   "execution_count": 3,
   "metadata": {},
   "outputs": [],
   "source": [
    "text = 'This is a string with term1, but not the other term'"
   ]
  },
  {
   "cell_type": "code",
   "execution_count": 4,
   "metadata": {},
   "outputs": [
    {
     "data": {
      "text/plain": [
       "<re.Match object; span=(0, 5), match='hello'>"
      ]
     },
     "execution_count": 4,
     "metadata": {},
     "output_type": "execute_result"
    }
   ],
   "source": [
    "re.search('hello', 'hello world!')"
   ]
  },
  {
   "cell_type": "code",
   "execution_count": 13,
   "metadata": {},
   "outputs": [
    {
     "name": "stdout",
     "output_type": "stream",
     "text": [
      "Searching for \"term1\" in : \n",
      "\"This is a string with term1, but not the other term\"\n",
      "\n",
      "\n",
      "Match was found. \n",
      "\n",
      "Searching for \"term2\" in : \n",
      "\"This is a string with term1, but not the other term\"\n",
      "\n",
      "\n",
      "No Match was found. \n",
      "\n"
     ]
    }
   ],
   "source": [
    "for pattern in patterns: \n",
    "    print ('Searching for \"%s\" in : \\n\"%s\"' % (pattern,text))\n",
    "    \n",
    "    #check for match\n",
    "    if re.search(pattern, text):\n",
    "        print('\\n')\n",
    "        print('Match was found. \\n')\n",
    "    else:\n",
    "        print ('\\n')\n",
    "        print ('No Match was found. \\n')"
   ]
  },
  {
   "cell_type": "code",
   "execution_count": 18,
   "metadata": {},
   "outputs": [],
   "source": [
    "match = re.search(patterns[0], text)"
   ]
  },
  {
   "cell_type": "code",
   "execution_count": 19,
   "metadata": {},
   "outputs": [
    {
     "data": {
      "text/plain": [
       "re.Match"
      ]
     },
     "execution_count": 19,
     "metadata": {},
     "output_type": "execute_result"
    }
   ],
   "source": [
    "type(match)"
   ]
  },
  {
   "cell_type": "code",
   "execution_count": 20,
   "metadata": {},
   "outputs": [
    {
     "data": {
      "text/plain": [
       "22"
      ]
     },
     "execution_count": 20,
     "metadata": {},
     "output_type": "execute_result"
    }
   ],
   "source": [
    "match.start() #indicate the start of the position of the string"
   ]
  },
  {
   "cell_type": "code",
   "execution_count": 21,
   "metadata": {},
   "outputs": [
    {
     "data": {
      "text/plain": [
       "27"
      ]
     },
     "execution_count": 21,
     "metadata": {},
     "output_type": "execute_result"
    }
   ],
   "source": [
    "match.end() # indicate the end of the position of the string"
   ]
  },
  {
   "cell_type": "code",
   "execution_count": 22,
   "metadata": {},
   "outputs": [],
   "source": [
    "split_term = '@'\n",
    "\n",
    "phrase = 'What is your email, is it hello@gmail.com?'"
   ]
  },
  {
   "cell_type": "code",
   "execution_count": 23,
   "metadata": {},
   "outputs": [
    {
     "data": {
      "text/plain": [
       "['What is your email, is it hello', 'gmail.com?']"
      ]
     },
     "execution_count": 23,
     "metadata": {},
     "output_type": "execute_result"
    }
   ],
   "source": [
    "re.split(split_term,phrase)"
   ]
  },
  {
   "cell_type": "code",
   "execution_count": 24,
   "metadata": {},
   "outputs": [
    {
     "data": {
      "text/plain": [
       "['hello', 'world']"
      ]
     },
     "execution_count": 24,
     "metadata": {},
     "output_type": "execute_result"
    }
   ],
   "source": [
    "'hello world'.split()"
   ]
  },
  {
   "cell_type": "code",
   "execution_count": 28,
   "metadata": {},
   "outputs": [
    {
     "data": {
      "text/plain": [
       "['match', 'match']"
      ]
     },
     "execution_count": 28,
     "metadata": {},
     "output_type": "execute_result"
    }
   ],
   "source": [
    "re.findall('match', 'Here is one match, here is another match')"
   ]
  },
  {
   "cell_type": "code",
   "execution_count": 30,
   "metadata": {},
   "outputs": [],
   "source": [
    "def multi_re_find(patterns, phrase):\n",
    "    '''\n",
    "    Takes in a list of regex patterns\n",
    "    Prints a list of all matches\n",
    "    '''\n",
    "    \n",
    "    for pattern in patterns:\n",
    "        print('Searching the pharse using the re check: %r' %pattern)\n",
    "        print(re.findall(pattern, phrase))\n",
    "        print('\\n')"
   ]
  },
  {
   "cell_type": "code",
   "execution_count": 49,
   "metadata": {
    "scrolled": true
   },
   "outputs": [],
   "source": [
    "test_phrase = 'sdsd..sssddd...sdddsddd...dsds...dssss...sdddd'\n",
    "\n",
    "test_patterns = [ 'sd*',  # s followed by zero or more d's\n",
    "                'sd+',     # s followed by one or more d's\n",
    "                'sd?',     # s followed by zero or one d's\n",
    "                'sd{3}',   # s followed by three d's\n",
    "                'sd{2,3}',  # s followed by two to three d's\n",
    "                ]\n",
    "\n",
    "# multi_re_find(test_patterns, test_phrase)"
   ]
  },
  {
   "cell_type": "raw",
   "metadata": {},
   "source": [
    "Character Sets - are used when you wish to match any one of a group of characters at a point in the input\n",
    "brackets are used to construct character set inputs. For example: \n",
    "the input[abs] searchs for occurences of either a or b. Let's see some examples:"
   ]
  },
  {
   "cell_type": "code",
   "execution_count": 50,
   "metadata": {},
   "outputs": [
    {
     "name": "stdout",
     "output_type": "stream",
     "text": [
      "Searching the pharse using the re check: '[sd]'\n",
      "['s', 'd', 's', 'd', 's', 's', 's', 'd', 'd', 'd', 's', 'd', 'd', 'd', 's', 'd', 'd', 'd', 'd', 's', 'd', 's', 'd', 's', 's', 's', 's', 's', 'd', 'd', 'd', 'd']\n",
      "\n",
      "\n",
      "Searching the pharse using the re check: 's[sd]+'\n",
      "['sdsd', 'sssddd', 'sdddsddd', 'sds', 'ssss', 'sdddd']\n",
      "\n",
      "\n"
     ]
    }
   ],
   "source": [
    "test_phrase = 'sdsd..sssddd...sdddsddd...dsds...dssss...sdddd'\n",
    "\n",
    "test_patterns = [ '[sd]',   # checks for either s or d\n",
    "                's[sd]+'    # s followed by one or more s or d\n",
    "                ]\n",
    "\n",
    "multi_re_find(test_patterns, test_phrase)"
   ]
  },
  {
   "cell_type": "raw",
   "metadata": {},
   "source": [
    "Esclusion: we can use ^ character to excludes terms by incorporating it\n",
    "into the bracket synatx notation. For example: [^...] will match any single character not in the brackets. Let's see some examples: "
   ]
  },
  {
   "cell_type": "code",
   "execution_count": 53,
   "metadata": {},
   "outputs": [],
   "source": [
    "test_phrase = 'This is a string! But it has punctuation. How can we remove it?'"
   ]
  },
  {
   "cell_type": "raw",
   "metadata": {},
   "source": [
    "Use [^!.?] to check for matches that are not a !, . , ?, or ' '. Add the + to check that the match appears at least once this bascially translate into finding the words."
   ]
  },
  {
   "cell_type": "code",
   "execution_count": 54,
   "metadata": {},
   "outputs": [
    {
     "data": {
      "text/plain": [
       "['This',\n",
       " 'is',\n",
       " 'a',\n",
       " 'string',\n",
       " 'But',\n",
       " 'it',\n",
       " 'has',\n",
       " 'punctuation',\n",
       " 'How',\n",
       " 'can',\n",
       " 'we',\n",
       " 'remove',\n",
       " 'it']"
      ]
     },
     "execution_count": 54,
     "metadata": {},
     "output_type": "execute_result"
    }
   ],
   "source": [
    "re.findall('[^!.? ]+', test_phrase)"
   ]
  },
  {
   "cell_type": "raw",
   "metadata": {},
   "source": [
    "Character Ranges\n",
    "As Character sets grow larger, typing every character that should (or shouldn't) match could become very tedious. A more compact format using character ranges lets you define a character set to inlcude all of the contiguous characters between a start and stop point. The format used is [start - end].\n",
    "\n",
    "Let's walk through some examples:\n"
   ]
  },
  {
   "cell_type": "code",
   "execution_count": 60,
   "metadata": {},
   "outputs": [
    {
     "name": "stdout",
     "output_type": "stream",
     "text": [
      "Searching the pharse using the re check: '[a-z]+'\n",
      "['his', 'is', 'an', 'exmple', 'sentence', 'ets', 'see', 'if', 'we', 'can', 'find', 'some', 'letters']\n",
      "\n",
      "\n",
      "Searching the pharse using the re check: '[A-Z+]'\n",
      "['T', 'L']\n",
      "\n",
      "\n",
      "Searching the pharse using the re check: '[a-zA-Z]+'\n",
      "['This', 'is', 'an', 'exmple', 'sentence', 'Lets', 'see', 'if', 'we', 'can', 'find', 'some', 'letters']\n",
      "\n",
      "\n",
      "Searching the pharse using the re check: '[A-Z][a-z]+'\n",
      "['This', 'Lets']\n",
      "\n",
      "\n"
     ]
    }
   ],
   "source": [
    "test_phrase1 = 'This is an exmple sentence. Lets see if we can find some letters.'\n",
    "\n",
    "test_patterns1 =[ '[a-z]+',       # sequences of lower case letters\n",
    "                 '[A-Z+]',       # sequences of upper case letters\n",
    "                 '[a-zA-Z]+',    # sequences of lower or upper case letters\n",
    "                 '[A-Z][a-z]+'] # one upper case letter followed by lower case letter\n",
    "\n",
    "multi_re_find(test_patterns1, test_phrase1)\n"
   ]
  },
  {
   "cell_type": "code",
   "execution_count": 62,
   "metadata": {},
   "outputs": [
    {
     "name": "stdout",
     "output_type": "stream",
     "text": [
      "Searching the pharse using the re check: '\\\\d+'\n",
      "['123', '3']\n",
      "\n",
      "\n",
      "Searching the pharse using the re check: '\\\\D+'\n",
      "['This is a string with some numbers ', 'a', ' and a symbol #hashtag']\n",
      "\n",
      "\n",
      "Searching the pharse using the re check: '\\\\s+'\n",
      "[' ', ' ', ' ', ' ', ' ', ' ', ' ', ' ', ' ', ' ', ' ']\n",
      "\n",
      "\n",
      "Searching the pharse using the re check: '\\\\S+'\n",
      "['This', 'is', 'a', 'string', 'with', 'some', 'numbers', '123a3', 'and', 'a', 'symbol', '#hashtag']\n",
      "\n",
      "\n",
      "Searching the pharse using the re check: '\\\\w+'\n",
      "['This', 'is', 'a', 'string', 'with', 'some', 'numbers', '123a3', 'and', 'a', 'symbol', 'hashtag']\n",
      "\n",
      "\n",
      "Searching the pharse using the re check: '\\\\W+'\n",
      "[' ', ' ', ' ', ' ', ' ', ' ', ' ', ' ', ' ', ' ', ' #']\n",
      "\n",
      "\n"
     ]
    }
   ],
   "source": [
    "test_phrase = 'This is a string with some numbers 1233 and a symbol #hashtag'\n",
    "\n",
    "test_patterns = [r'\\d+',    # sequence of digits\n",
    "                 r'\\D+',    # sequence of non-digits\n",
    "                 r'\\s+',    # sequence of whitespace\n",
    "                 r'\\S+',    # sequence of non-whitespace\n",
    "                 r'\\w+',    # sequence of characters\n",
    "                 r'\\W+',    # non-alphanumeric\n",
    "                ]\n",
    "\n",
    "multi_re_find(test_patterns, test_phrase)"
   ]
  },
  {
   "cell_type": "raw",
   "metadata": {},
   "source": [
    "There are a ton of more speical character instnaces, but it would be unreasonable to go through every single use case. Instead take a look at the full documentation if you ever need to look up a partiuclar case."
   ]
  },
  {
   "cell_type": "code",
   "execution_count": null,
   "metadata": {},
   "outputs": [],
   "source": []
  }
 ],
 "metadata": {
  "kernelspec": {
   "display_name": "Python 3",
   "language": "python",
   "name": "python3"
  },
  "language_info": {
   "codemirror_mode": {
    "name": "ipython",
    "version": 3
   },
   "file_extension": ".py",
   "mimetype": "text/x-python",
   "name": "python",
   "nbconvert_exporter": "python",
   "pygments_lexer": "ipython3",
   "version": "3.7.3"
  }
 },
 "nbformat": 4,
 "nbformat_minor": 2
}
